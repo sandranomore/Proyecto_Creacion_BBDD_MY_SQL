{
 "cells": [
  {
   "cell_type": "markdown",
   "metadata": {},
   "source": [
    "# Fase #3. Extracción de Detalles de Actores con Selenium\n",
    "\n",
    "El siguiente paso es extraer información detallada de los 10 principales actores de cada una de las películas extraidas en la fase 1 utilizando Selenium (desde la página e IMDB). Debereis solo tener en cuenta los 10 primeros actores de cada película o corto (en caso de que los haya)La información que deberás extraer es:\n",
    "\n",
    "    - Nombre.\n",
    "    - Año nacimiento.\n",
    "    - ¿Por qué es conocido?\n",
    "    - ¿Qué hace?\n",
    "    - Premios.\n",
    "\n",
    "**NOTA**: La información de la API deberá ser almacenada en una lista de tuplas. Cada tupla corresponderá a una película. Siguiendo el siguiente ejemplo:\n",
    "\n",
    "    [(\"Adam Sadler\", 1966, [\"El aguador\", \"Little Nicky\", \"Un papá genial\", \"El chico ideal\" ], [\"Reparto\", \"Producción\", \"Guion\"] , [\"American Comedy Awards, USA\", \"Annie Awards\"],   ),  \n",
    "    ...]"
   ]
  },
  {
   "cell_type": "code",
   "execution_count": 1,
   "metadata": {},
   "outputs": [],
   "source": [
    "# Importar librerías para tratamiento de datos\n",
    "# -----------------------------------------------------------------------\n",
    "import pandas as pd\n",
    "from bs4 import BeautifulSoup\n",
    "import requests\n",
    "import pandas as pd\n",
    "\n",
    "from selenium import webdriver\n",
    "from webdriver_manager.chrome import ChromeDriverManager\n",
    "from selenium.webdriver.common.keys import Keys\n",
    "from selenium.webdriver.support.ui import Select\n",
    "from time import sleep\n",
    "\n",
    "from selenium.common.exceptions import NoSuchElementException\n",
    "from selenium.webdriver.support.ui import WebDriverWait\n",
    "from selenium.webdriver.support import expected_conditions as EC\n",
    "\n",
    "from selenium.webdriver.common.by import By  \n",
    "# By se utiliza para localizar elementos en una página web mediante diferentes métodos como XPATH, CSS_SELECTOR, etc.\n",
    "import re"
   ]
  },
  {
   "cell_type": "code",
   "execution_count": 2,
   "metadata": {},
   "outputs": [
    {
     "name": "stdout",
     "output_type": "stream",
     "text": [
      "dict_keys(['2015', '2016', '2017', '2018', '2019', '2020'])\n"
     ]
    }
   ],
   "source": [
    "# Lista para almacenar las listas de IDs de película por año\n",
    "listas_por_año_actores = {}\n",
    "\n",
    "# Nombres de los archivos CSV por año, esto debe de estar en el escritorio para poder usarlos a menos que los tenga en el Visual\n",
    "archivos_csv_pelis = ['datos_2015.csv', \n",
    "                        'datos_2016.csv', \n",
    "                        'datos_2017.csv', \n",
    "                        'datos_2018.csv', \n",
    "                        'datos_2019.csv', \n",
    "                        'datos_2020.csv'] \n",
    "\n",
    "# Recorro el diccionario para ir a ver sus datos\n",
    "for archivo in archivos_csv_pelis:\n",
    "    peli_actor = re.search(r'\\d{4}', archivo).group()\n",
    "    \n",
    "    if peli_actor:\n",
    "        # Leer el archivo CSV\n",
    "        df = pd.read_csv(archivo)\n",
    "        \n",
    "        # Filtrar las filas que tienen valores en la columna 'Id_pelicula', para sacar igual sus nombre que es más seguro con el id\n",
    "        df_con_id = df.dropna(subset=['Id_pelicula'])\n",
    "        \n",
    "        # Crear una lista de los Nom de película accediendo con su ID\n",
    "        nom_peliculas = df_con_id['Id_pelicula'].tolist()\n",
    "        \n",
    "        # Agregar la lista de Nom de película a la lista principal\n",
    "        listas_por_año_actores[peli_actor] = nom_peliculas\n",
    "    else:\n",
    "        print(f\"No se pudo encontrar el año en el archivo: {archivo}\")\n",
    "\n",
    "# Imprimir la lista de listas\n",
    "print(listas_por_año_actores.keys())\n"
   ]
  },
  {
   "cell_type": "markdown",
   "metadata": {},
   "source": [
    "# solo los nombres"
   ]
  },
  {
   "cell_type": "code",
   "execution_count": 6,
   "metadata": {},
   "outputs": [],
   "source": [
    "\n",
    "def extraccion_actores():\n",
    "    driver = webdriver.Chrome()\n",
    "\n",
    "    # Abre la página web especificada\n",
    "    driver.get(\"https://www.imdb.com/\")\n",
    "    driver.maximize_window()\n",
    "    sleep(2)\n",
    "\n",
    "    # Aceptamos las cookies\n",
    "    driver.find_element(\"css selector\", \"#__next > div > div > div.sc-jrcTuL.bPmWiM > div > button.icb-btn.sc-bcXHqe.sc-dkrFOg.sc-iBYQkv.dcvrLS.ddtuHe.dRCGjd\").click()\n",
    "    sleep(2)\n",
    "    \n",
    "    lista_actores_peliculas = listas_por_año_actores['2015'][250:254]\n",
    "    lista_detalles_actores = [] \n",
    "    \n",
    "    for id in lista_actores_peliculas:\n",
    "\n",
    "        driver.find_element(\"css selector\", \"#suggestion-search\").send_keys(id, Keys.ENTER) #Barra de busqueda, id peli\n",
    "        sleep(2)\n",
    "        \n",
    "        for i in range(1,3): \n",
    "            # saca los actores\n",
    "        \n",
    "            try:            \n",
    "                nombre_actor = driver.find_element(\"css selector\", f\"#__next > main > div > section.ipc-page-background.ipc-page-background--base.sc-304f99f6-0.fSJiHR > div > section > div > div.sc-978e9339-1.ihWZgK.ipc-page-grid__item.ipc-page-grid__item--span-2 > section.ipc-page-section.ipc-page-section--base.sc-bfec09a1-0.jgUBLM.title-cast.title-cast--movie.celwidget > div.ipc-shoveler.ipc-shoveler--base.ipc-shoveler--page0.title-cast__grid > div.ipc-sub-grid.ipc-sub-grid--page-span-2.ipc-sub-grid--wraps-at-above-l.ipc-shoveler__grid > div:nth-child({i}) > div.sc-bfec09a1-7.gWwKlt > a\").text\n",
    "                lista_detalles_actores.append(nombre_actor)\n",
    "            except:\n",
    "                break\n",
    "            \n",
    "        driver.back()\n",
    "        \n",
    "    #driver.quit()\n",
    "\n",
    "    return lista_detalles_actores\n"
   ]
  },
  {
   "cell_type": "code",
   "execution_count": 7,
   "metadata": {},
   "outputs": [],
   "source": [
    "m = extraccion_actores()"
   ]
  },
  {
   "cell_type": "code",
   "execution_count": 8,
   "metadata": {},
   "outputs": [
    {
     "data": {
      "text/plain": [
       "['Steven Joseph Adams',\n",
       " 'Leeann Aubuchon',\n",
       " 'Jürgen Prochnow',\n",
       " 'Moritz Bleibtreu',\n",
       " 'Mehdi Francois-Ackerman',\n",
       " 'Augie Duke',\n",
       " 'Chiwetel Ejiofor',\n",
       " 'Nicole Kidman']"
      ]
     },
     "execution_count": 8,
     "metadata": {},
     "output_type": "execute_result"
    }
   ],
   "source": [
    "m"
   ]
  },
  {
   "cell_type": "markdown",
   "metadata": {},
   "source": [
    "# Plantilla Probando Manual "
   ]
  },
  {
   "cell_type": "code",
   "execution_count": 14,
   "metadata": {},
   "outputs": [
    {
     "data": {
      "text/plain": [
       "['60 wins & 90 nominations total']"
      ]
     },
     "execution_count": 14,
     "metadata": {},
     "output_type": "execute_result"
    }
   ],
   "source": [
    "driver = webdriver.Chrome()\n",
    "# Abre la página web especificada\n",
    "driver.get(\"https://www.imdb.com/\")\n",
    "driver.maximize_window()\n",
    "sleep(2)\n",
    "\n",
    " # Aceptamos las cookies\n",
    "driver.find_element(\"css selector\", \"#__next > div > div > div.sc-jrcTuL.bPmWiM > div > button.icb-btn.sc-bcXHqe.sc-dkrFOg.sc-iBYQkv.dcvrLS.ddtuHe.dRCGjd\").click()\n",
    "sleep(2)\n",
    "\n",
    "lista_actor = 'Chiwetel Ejiofor'\n",
    "\n",
    "lista_detalles_actor = []\n",
    "\n",
    "driver.find_element(\"css selector\", \"#suggestion-search\").send_keys(lista_actor, Keys.ENTER) #Barra de busqueda, id peli\n",
    "sleep(2)\n",
    "driver.find_element('css selector',\"#__next > main > div.ipc-page-content-container.ipc-page-content-container--full.sc-dec63aac-0.uHlFE > div.ipc-page-content-container.ipc-page-content-container--center > section > div > div.ipc-page-grid__item.ipc-page-grid__item--span-2 > section.ipc-page-section.ipc-page-section--base.sc-ffc93fc1-0.haFanC > div.sc-ffc93fc1-2.ditJlF > ul > li > div.ipc-metadata-list-summary-item__c > div > a\" ).click()\n",
    "sleep(2)\n",
    "\n",
    "\n",
    "try:                                        \n",
    "    premios = driver.find_element(\"xpath\", '//*[@id=\"__next\"]/main/div/section[1]/div/section/div/div[1]/section[2]/div/ul/li/div').text\n",
    "except:\n",
    "    premios = 'No tiene'\n",
    " \n",
    "        \n",
    "    \n",
    "lista_detalles_actor.append(premios)\n",
    " \n",
    "lista_detalles_actor\n"
   ]
  },
  {
   "cell_type": "code",
   "execution_count": 4,
   "metadata": {},
   "outputs": [
    {
     "data": {
      "text/plain": [
       "[('Jürgen Prochnow',\n",
       "  '10 de junio de 1941',\n",
       "  'No hay información sobre premio',\n",
       "  ['Reparto', 'Producción', 'Banda sonora'],\n",
       "  ['El submarino (Das Boot)', 'Dune', 'El paciente inglés']),\n",
       " ('Moritz Bleibtreu',\n",
       "  '13 de agosto de 1971',\n",
       "  'No hay información sobre premio',\n",
       "  ['Reparto', 'Producción', 'Dirección'],\n",
       "  ['Llamando a las puertas', 'El experimento', 'Im Juli']),\n",
       " ('Nora Waldstätten',\n",
       "  '1 de diciembre de 1981',\n",
       "  'No hay información sobre premio',\n",
       "  ['Reparto'],\n",
       "  ['Personal Shopper', 'En el lugar del crimen', 'Viaje a Sils Maria']),\n",
       " ('Mehdi Francois-Ackerman',\n",
       "  '7 de octubre',\n",
       "  'No hay información sobre premio',\n",
       "  ['Reparto', 'Guion', 'Producción'],\n",
       "  'No hay más información sobre ostros trabajos '),\n",
       " ('Augie Duke',\n",
       "  '4 de febrero de 1986',\n",
       "  'No hay información sobre premio',\n",
       "  ['Reparto', 'Producción', 'Dirección'],\n",
       "  ['6 Years, 4 Months & 23 Days', 'Spring', 'Bad Kids Go to Hell']),\n",
       " ('Frank Leboeuf',\n",
       "  '22 de enero de 1968',\n",
       "  'No hay información sobre premio',\n",
       "  ['Reparto', 'Producción', 'Equipos adicionales'],\n",
       "  ['La teoría del todo', 'Blazeball', 'The Eighth Sin']),\n",
       " ('Chiwetel Ejiofor',\n",
       "  '10 de julio de 1977',\n",
       "  'No hay información sobre premio',\n",
       "  ['Reparto', 'Dirección', 'Guion'],\n",
       "  ['12 años de esclavitud', 'Negocios ocultos', 'El niño que domó el viento']),\n",
       " ('Nicole Kidman',\n",
       "  '20 de junio de 1967',\n",
       "  'No hay información sobre premio',\n",
       "  ['Reparto', 'Producción', 'Música'],\n",
       "  ['Moulin Rouge', 'Las horas', 'Cold Mountain']),\n",
       " ('Julia Roberts',\n",
       "  '28 de octubre de 1967',\n",
       "  'No hay información sobre premio',\n",
       "  ['Reparto', 'Producción', 'Banda sonora'],\n",
       "  ['Pretty Woman', 'Erin Brockovich', 'La boda de mi mejor amigo']),\n",
       " ('Tom Savini',\n",
       "  '3 de noviembre de 1946',\n",
       "  'No hay información sobre premio',\n",
       "  ['Reparto', 'Maquillaje', 'Efectos especiales'],\n",
       "  ['Abierto hasta el amanecer',\n",
       "   'Zombi: El regreso de los muertos vivientes',\n",
       "   'Las ventajas de ser un marginado']),\n",
       " ('Frank Wihbey',\n",
       "  'No hay información sobre nacimiento',\n",
       "  'No hay información sobre premio',\n",
       "  ['Reparto', 'Producción', 'Guion'],\n",
       "  ['The Sadist', 'Body', 'Hungry?']),\n",
       " ('Santo Fazio',\n",
       "  'No hay información sobre nacimiento',\n",
       "  'No hay información sobre premio',\n",
       "  ['Reparto'],\n",
       "  ['Marido por sorpresa', 'Broken English', 'Wonderland']),\n",
       " ('Marc Webb',\n",
       "  'No hay información sobre nacimiento',\n",
       "  'No hay información sobre premio',\n",
       "  ['Cámara y electricidad',\n",
       "   'Dirección de la segunda unidad o asistencia a dirección',\n",
       "   'Producción'],\n",
       "  ['The Ninth Passenger', 'Forgotten Man', 'Lost Solace']),\n",
       " ('Elfina Luk',\n",
       "  'No hay información sobre nacimiento',\n",
       "  'No hay información sobre premio',\n",
       "  ['Reparto', 'Producción', 'Guion'],\n",
       "  ['El rascacielos', 'The Good Doctor', 'Loudermilk']),\n",
       " ('Michael Paul McKenna',\n",
       "  'No hay información sobre nacimiento',\n",
       "  'No hay información sobre premio',\n",
       "  ['Reparto'],\n",
       "  'No hay más información sobre ostros trabajos ')]"
      ]
     },
     "execution_count": 4,
     "metadata": {},
     "output_type": "execute_result"
    }
   ],
   "source": [
    "\n",
    "driver = webdriver.Chrome()\n",
    "\n",
    "# Abre la página web especificada\n",
    "driver.get(\"https://www.imdb.com/\")\n",
    "driver.maximize_window()\n",
    "sleep(1)\n",
    "\n",
    "# Aceptamos las cookies\n",
    "driver.find_element(\"css selector\", \"#__next > div > div > div.sc-jrcTuL.bPmWiM > div > button.icb-btn.sc-bcXHqe.sc-dkrFOg.sc-iBYQkv.dcvrLS.ddtuHe.dRCGjd\").click()\n",
    "sleep(1)\n",
    "\n",
    "lista_actores_peliculas = listas_por_año_actores['2015'][251:256]\n",
    "lista_detalles_actores = [] \n",
    "\n",
    "for id in lista_actores_peliculas:\n",
    "    \n",
    "    driver.find_element(\"css selector\", \"#suggestion-search\").send_keys(id, Keys.ENTER) #Barra de busqueda\n",
    "    sleep(1)    \n",
    "    \n",
    "    driver.find_element(\"css selector\", \"#__next > main > div > section.ipc-page-background.ipc-page-background--base.sc-304f99f6-0.fSJiHR > section > div:nth-child(5) > section > section > div.sc-66ec1b32-0.kbbKze > div > div:nth-child(2) > ul > li:nth-child(1) > a\").click()\n",
    "    sleep(1)\n",
    "    \n",
    "    # si no hay 10 o si hay menos se rompe. pero si hay 10 si que los extrae\n",
    "    # creo que hay que hacer una condición que extreiga lo que haya\n",
    "   \n",
    "    for i in range(2,5): \n",
    "                \n",
    "        driver.find_element(\"css selector\", f\"#fullcredits_content > table.cast_list > tbody > tr:nth-child({i}) > td:nth-child(2) > a\").click()\n",
    "        sleep(2)\n",
    "        \n",
    "        try:                                          \n",
    "            actores = driver.find_element(\"xpath\", '//*[@id=\"__next\"]/main/div/section[1]/section/div[3]/section/section/div[2]/div/h1/span').text\n",
    "        except:                                            \n",
    "            actores = 'No existe'\n",
    "        sleep(1)    \n",
    "        \n",
    "        try:        \n",
    "            nacimiento = driver.find_element('css selector', '#__next > main > div > section.ipc-page-background.ipc-page-background--base.sc-304f99f6-0.fSJiHR > section > div:nth-child(5) > section > section > div.sc-92625f35-4.iDcoFI > div.sc-92625f35-6.gHKhNg > div.sc-92625f35-11.eyxQlE > section > aside > div > span:nth-child(2)').text\n",
    "        except:\n",
    "            nacimiento = 'No hay información sobre nacimiento'\n",
    "        sleep(1)\n",
    "           \n",
    "        try:                                        \n",
    "            premios = driver.find_element(\"xpath\", '//*[@id=\"__next\"]/main/div/section[1]/div/section/div/div[1]/section[2]/div/ul/li/div').text\n",
    "        except:\n",
    "            premios = 'No hay información sobre premio'\n",
    "        sleep(1)\n",
    "            \n",
    "        try:\n",
    "            que_hace = driver.find_element('css selector', '#__next > main > div > section.ipc-page-background.ipc-page-background--base.sc-304f99f6-0.fSJiHR > section > div:nth-child(5) > section > section > div.sc-92625f35-3.frxYSZ > div > ul').text\n",
    "        except:\n",
    "            que_hace = \"No hay información sobre qué hace\"\n",
    "        sleep(1)\n",
    "        \n",
    "        # RESUELTO! Retocar porque se suscribe, solo que guarda 1 en vez de los 3 que pedimos. \n",
    "        try:\n",
    "            conocido_por = []\n",
    "            for c in range(1,4):                                                \n",
    "                conocido = driver.find_element('css selector', f'#__next > main > div > section.ipc-page-background.ipc-page-background--base.sc-304f99f6-0.fSJiHR > div > section > div > div.sc-978e9339-1.ihWZgK.ipc-page-grid__item.ipc-page-grid__item--span-2 > div.celwidget > section:nth-child(1) > div.sc-a6d4b6c0-0.bBRhdF > div > div.ipc-sub-grid.ipc-sub-grid--page-span-2.ipc-sub-grid--wraps-at-above-l.ipc-shoveler__grid > div:nth-child({c}) > div.ipc-primary-image-list-card__content > div.ipc-primary-image-list-card__content-top > a').text\n",
    "                conocido_por.append(conocido)\n",
    "        except:\n",
    "            conocido_por = \"No hay más información sobre otros trabajos \"\n",
    "        sleep(1)\n",
    "            \n",
    "        tupla_actores = (actores, nacimiento, premios, que_hace.split('\\n'), conocido_por)\n",
    "        lista_detalles_actores.append(tupla_actores)\n",
    "        \n",
    "        driver.back()\n",
    "#habria que limpiar los datos \n",
    "lista_detalles_actores\n"
   ]
  },
  {
   "cell_type": "markdown",
   "metadata": {},
   "source": [
    "lista_actores_peliculas = listas_por_año_actores['2015'][251:256]\n",
    "for i in range(2,6): \n",
    "\n",
    "\n",
    "[('Jürgen Prochnow', 'June 10, 1941', '7 wins & 2 nominations'),\n",
    " ('Moritz Bleibtreu', 'August 13, 1971', '12 wins & 11 nominations'),\n",
    " ('Nora Waldstätten', 'December 1, 1981', '3 wins & 2 nominations'),\n",
    " ('André Hennicke', 'September 21, 1958', '4 wins & 6 nominations'),\n",
    " ('Mehdi Francois-Ackerman', 'October 7', 'No tiene'),\n",
    " ('Augie Duke', 'February 4, 1986', '6 wins & 2 nominations'),\n",
    " ('Frank Leboeuf', 'January 22, 1968', 'No tiene'), -----OJO si tiene nominación\n",
    " ('Sandra Seeling Lipski', 'August 24, 1983', '3 wins & 1 nomination'),\n",
    " ('Chiwetel Ejiofor', 'July 10, 1977', '60 wins & 90 nominations total'),\n",
    " ('Nicole Kidman', 'June 20, 1967', '112 wins & 258 nominations total'),\n",
    " ('Julia Roberts', 'October 28, 1967', '62 wins & 122 nominations total'),\n",
    " ('Dean Norris', 'April 8, 1963', '1 win & 8 nominations'),\n",
    " ('Tom Savini', 'November 3, 1946', '5 wins & 3 nominations'),\n",
    " ('Frank Wihbey', 'No info', 'No tiene'),\n",
    " ('Santo Fazio', 'No info', 'No tiene'),\n",
    " ('Mackenzie Christine Hawkins', 'No info', 'Official Site'),\n",
    " ('Marc Webb', 'No info', 'No tiene'), ------OJO si tiene fecha de nacimiento\n",
    " ('Elfina Luk', 'No info', '2 nominations'),\n",
    " ('Michael Paul McKenna', 'No info', 'No tiene'),\n",
    " ('Marc Petey', 'No info', 'No tiene')]"
   ]
  },
  {
   "cell_type": "code",
   "execution_count": 22,
   "metadata": {},
   "outputs": [],
   "source": [
    "actores_2015 = extraccion_actores()"
   ]
  },
  {
   "cell_type": "code",
   "execution_count": 23,
   "metadata": {},
   "outputs": [
    {
     "data": {
      "text/plain": [
       "['Steven Joseph Adams',\n",
       " 'Leeann Aubuchon',\n",
       " 'Jürgen Prochnow',\n",
       " 'Moritz Bleibtreu',\n",
       " 'Mehdi Francois-Ackerman',\n",
       " 'Augie Duke',\n",
       " 'Chiwetel Ejiofor',\n",
       " 'Nicole Kidman']"
      ]
     },
     "execution_count": 23,
     "metadata": {},
     "output_type": "execute_result"
    }
   ],
   "source": [
    "actores_2015"
   ]
  }
 ],
 "metadata": {
  "kernelspec": {
   "display_name": "Python 3",
   "language": "python",
   "name": "python3"
  },
  "language_info": {
   "codemirror_mode": {
    "name": "ipython",
    "version": 3
   },
   "file_extension": ".py",
   "mimetype": "text/x-python",
   "name": "python",
   "nbconvert_exporter": "python",
   "pygments_lexer": "ipython3",
   "version": "3.11.5"
  }
 },
 "nbformat": 4,
 "nbformat_minor": 2
}
